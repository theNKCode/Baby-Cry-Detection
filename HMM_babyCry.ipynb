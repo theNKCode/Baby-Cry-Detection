{
 "cells": [
  {
   "cell_type": "code",
   "execution_count": 1,
   "metadata": {},
   "outputs": [],
   "source": [
    "import numpy as np\n",
    "import hmmlearn.hmm\n",
    "from python_speech_features import mfcc\n",
    "import scipy.io.wavfile as wav"
   ]
  },
  {
   "cell_type": "code",
   "execution_count": 2,
   "metadata": {},
   "outputs": [],
   "source": [
    "# Function to extract MFCC features from a WAV file\n",
    "def extract_mfcc(file_path):\n",
    "    rate, signal = wav.read(file_path)\n",
    "    mfcc_features = mfcc(signal, rate, winlen=0.025, winstep=0.01, numcep=13, nfilt=26, nfft=512)\n",
    "    return mfcc_features"
   ]
  },
  {
   "cell_type": "code",
   "execution_count": 3,
   "metadata": {},
   "outputs": [],
   "source": [
    "# Function to train an HMM model\n",
    "def train_hmm_model(training_data, num_hidden_states=3):\n",
    "    label_to_int = {label: idx for idx, (path, label) in enumerate(training_data)}\n",
    "    X_train = np.vstack([extract_mfcc(path) for path, label in training_data])\n",
    "    y_train = np.array([label_to_int[label] for path, label in training_data])\n",
    "    \n",
    "    hmm_model = hmmlearn.hmm.GaussianHMM(n_components=num_hidden_states, covariance_type=\"diag\", n_iter=100)\n",
    "    hmm_model.fit(X_train)\n",
    "    \n",
    "    return hmm_model, label_to_int"
   ]
  },
  {
   "cell_type": "code",
   "execution_count": 4,
   "metadata": {},
   "outputs": [],
   "source": [
    "# Function to recognize audio and predict labels\n",
    "def recognize_audio(test_data, hmm_model, label_to_int):\n",
    "    predicted_labels = []\n",
    "    for test_path in test_data:\n",
    "        test_mfcc = extract_mfcc(test_path)\n",
    "        log_likelihoods = hmm_model.score(test_mfcc)\n",
    "        predicted_label = predict_label(log_likelihoods, label_to_int)\n",
    "        predicted_labels.append(predicted_label)\n",
    "    return predicted_labels\n"
   ]
  },
  {
   "cell_type": "code",
   "execution_count": 5,
   "metadata": {},
   "outputs": [],
   "source": [
    "# Function to predict labels from log likelihoods\n",
    "def predict_label(log_likelihoods, label_dict):\n",
    "    max_label = max(label_dict, key=lambda label: log_likelihoods[label_dict[label]])\n",
    "    return max_label"
   ]
  },
  {
   "cell_type": "code",
   "execution_count": 6,
   "metadata": {},
   "outputs": [
    {
     "ename": "FileNotFoundError",
     "evalue": "[Errno 2] No such file or directory: 'path/to/speech1.wav'",
     "output_type": "error",
     "traceback": [
      "\u001b[1;31m---------------------------------------------------------------------------\u001b[0m",
      "\u001b[1;31mFileNotFoundError\u001b[0m                         Traceback (most recent call last)",
      "\u001b[1;32md:\\Projects\\ML\\Baby-Cry-Detection\\HMM_babyCry.ipynb Cell 6\u001b[0m line \u001b[0;36m1\n\u001b[0;32m      <a href='vscode-notebook-cell:/d%3A/Projects/ML/Baby-Cry-Detection/HMM_babyCry.ipynb#W5sZmlsZQ%3D%3D?line=2'>3</a>\u001b[0m training_data \u001b[39m=\u001b[39m [\n\u001b[0;32m      <a href='vscode-notebook-cell:/d%3A/Projects/ML/Baby-Cry-Detection/HMM_babyCry.ipynb#W5sZmlsZQ%3D%3D?line=3'>4</a>\u001b[0m     (\u001b[39m\"\u001b[39m\u001b[39mpath/to/speech1.wav\u001b[39m\u001b[39m\"\u001b[39m, \u001b[39m\"\u001b[39m\u001b[39mlabel1\u001b[39m\u001b[39m\"\u001b[39m),\n\u001b[0;32m      <a href='vscode-notebook-cell:/d%3A/Projects/ML/Baby-Cry-Detection/HMM_babyCry.ipynb#W5sZmlsZQ%3D%3D?line=4'>5</a>\u001b[0m     (\u001b[39m\"\u001b[39m\u001b[39mpath/to/speech2.wav\u001b[39m\u001b[39m\"\u001b[39m, \u001b[39m\"\u001b[39m\u001b[39mlabel1\u001b[39m\u001b[39m\"\u001b[39m),\n\u001b[0;32m      <a href='vscode-notebook-cell:/d%3A/Projects/ML/Baby-Cry-Detection/HMM_babyCry.ipynb#W5sZmlsZQ%3D%3D?line=5'>6</a>\u001b[0m     (\u001b[39m\"\u001b[39m\u001b[39mpath/to/speech3.wav\u001b[39m\u001b[39m\"\u001b[39m, \u001b[39m\"\u001b[39m\u001b[39mlabel2\u001b[39m\u001b[39m\"\u001b[39m),\n\u001b[0;32m      <a href='vscode-notebook-cell:/d%3A/Projects/ML/Baby-Cry-Detection/HMM_babyCry.ipynb#W5sZmlsZQ%3D%3D?line=6'>7</a>\u001b[0m     \u001b[39m# Add more training data as needed\u001b[39;00m\n\u001b[0;32m      <a href='vscode-notebook-cell:/d%3A/Projects/ML/Baby-Cry-Detection/HMM_babyCry.ipynb#W5sZmlsZQ%3D%3D?line=7'>8</a>\u001b[0m ]\n\u001b[0;32m     <a href='vscode-notebook-cell:/d%3A/Projects/ML/Baby-Cry-Detection/HMM_babyCry.ipynb#W5sZmlsZQ%3D%3D?line=9'>10</a>\u001b[0m test_data \u001b[39m=\u001b[39m [\n\u001b[0;32m     <a href='vscode-notebook-cell:/d%3A/Projects/ML/Baby-Cry-Detection/HMM_babyCry.ipynb#W5sZmlsZQ%3D%3D?line=10'>11</a>\u001b[0m     \u001b[39m\"\u001b[39m\u001b[39mpath/to/test_speech1.wav\u001b[39m\u001b[39m\"\u001b[39m,\n\u001b[0;32m     <a href='vscode-notebook-cell:/d%3A/Projects/ML/Baby-Cry-Detection/HMM_babyCry.ipynb#W5sZmlsZQ%3D%3D?line=11'>12</a>\u001b[0m     \u001b[39m\"\u001b[39m\u001b[39mpath/to/test_speech2.wav\u001b[39m\u001b[39m\"\u001b[39m,\n\u001b[0;32m     <a href='vscode-notebook-cell:/d%3A/Projects/ML/Baby-Cry-Detection/HMM_babyCry.ipynb#W5sZmlsZQ%3D%3D?line=12'>13</a>\u001b[0m     \u001b[39m# Add more test data as needed\u001b[39;00m\n\u001b[0;32m     <a href='vscode-notebook-cell:/d%3A/Projects/ML/Baby-Cry-Detection/HMM_babyCry.ipynb#W5sZmlsZQ%3D%3D?line=13'>14</a>\u001b[0m ]\n\u001b[1;32m---> <a href='vscode-notebook-cell:/d%3A/Projects/ML/Baby-Cry-Detection/HMM_babyCry.ipynb#W5sZmlsZQ%3D%3D?line=15'>16</a>\u001b[0m hmm_model, label_to_int \u001b[39m=\u001b[39m train_hmm_model(training_data)\n\u001b[0;32m     <a href='vscode-notebook-cell:/d%3A/Projects/ML/Baby-Cry-Detection/HMM_babyCry.ipynb#W5sZmlsZQ%3D%3D?line=16'>17</a>\u001b[0m predicted_labels \u001b[39m=\u001b[39m recognize_audio(test_data, hmm_model, label_to_int)\n\u001b[0;32m     <a href='vscode-notebook-cell:/d%3A/Projects/ML/Baby-Cry-Detection/HMM_babyCry.ipynb#W5sZmlsZQ%3D%3D?line=18'>19</a>\u001b[0m \u001b[39mfor\u001b[39;00m test_path, predicted_label \u001b[39min\u001b[39;00m \u001b[39mzip\u001b[39m(test_data, predicted_labels):\n",
      "\u001b[1;32md:\\Projects\\ML\\Baby-Cry-Detection\\HMM_babyCry.ipynb Cell 6\u001b[0m line \u001b[0;36m4\n\u001b[0;32m      <a href='vscode-notebook-cell:/d%3A/Projects/ML/Baby-Cry-Detection/HMM_babyCry.ipynb#W5sZmlsZQ%3D%3D?line=1'>2</a>\u001b[0m \u001b[39mdef\u001b[39;00m \u001b[39mtrain_hmm_model\u001b[39m(training_data, num_hidden_states\u001b[39m=\u001b[39m\u001b[39m3\u001b[39m):\n\u001b[0;32m      <a href='vscode-notebook-cell:/d%3A/Projects/ML/Baby-Cry-Detection/HMM_babyCry.ipynb#W5sZmlsZQ%3D%3D?line=2'>3</a>\u001b[0m     label_to_int \u001b[39m=\u001b[39m {label: idx \u001b[39mfor\u001b[39;00m idx, (path, label) \u001b[39min\u001b[39;00m \u001b[39menumerate\u001b[39m(training_data)}\n\u001b[1;32m----> <a href='vscode-notebook-cell:/d%3A/Projects/ML/Baby-Cry-Detection/HMM_babyCry.ipynb#W5sZmlsZQ%3D%3D?line=3'>4</a>\u001b[0m     X_train \u001b[39m=\u001b[39m np\u001b[39m.\u001b[39mvstack([extract_mfcc(path) \u001b[39mfor\u001b[39;49;00m path, label \u001b[39min\u001b[39;49;00m training_data])\n\u001b[0;32m      <a href='vscode-notebook-cell:/d%3A/Projects/ML/Baby-Cry-Detection/HMM_babyCry.ipynb#W5sZmlsZQ%3D%3D?line=4'>5</a>\u001b[0m     y_train \u001b[39m=\u001b[39m np\u001b[39m.\u001b[39marray([label_to_int[label] \u001b[39mfor\u001b[39;00m path, label \u001b[39min\u001b[39;00m training_data])\n\u001b[0;32m      <a href='vscode-notebook-cell:/d%3A/Projects/ML/Baby-Cry-Detection/HMM_babyCry.ipynb#W5sZmlsZQ%3D%3D?line=6'>7</a>\u001b[0m     hmm_model \u001b[39m=\u001b[39m hmmlearn\u001b[39m.\u001b[39mhmm\u001b[39m.\u001b[39mGaussianHMM(n_components\u001b[39m=\u001b[39mnum_hidden_states, covariance_type\u001b[39m=\u001b[39m\u001b[39m\"\u001b[39m\u001b[39mdiag\u001b[39m\u001b[39m\"\u001b[39m, n_iter\u001b[39m=\u001b[39m\u001b[39m100\u001b[39m)\n",
      "\u001b[1;32md:\\Projects\\ML\\Baby-Cry-Detection\\HMM_babyCry.ipynb Cell 6\u001b[0m line \u001b[0;36m4\n\u001b[0;32m      <a href='vscode-notebook-cell:/d%3A/Projects/ML/Baby-Cry-Detection/HMM_babyCry.ipynb#W5sZmlsZQ%3D%3D?line=1'>2</a>\u001b[0m \u001b[39mdef\u001b[39;00m \u001b[39mtrain_hmm_model\u001b[39m(training_data, num_hidden_states\u001b[39m=\u001b[39m\u001b[39m3\u001b[39m):\n\u001b[0;32m      <a href='vscode-notebook-cell:/d%3A/Projects/ML/Baby-Cry-Detection/HMM_babyCry.ipynb#W5sZmlsZQ%3D%3D?line=2'>3</a>\u001b[0m     label_to_int \u001b[39m=\u001b[39m {label: idx \u001b[39mfor\u001b[39;00m idx, (path, label) \u001b[39min\u001b[39;00m \u001b[39menumerate\u001b[39m(training_data)}\n\u001b[1;32m----> <a href='vscode-notebook-cell:/d%3A/Projects/ML/Baby-Cry-Detection/HMM_babyCry.ipynb#W5sZmlsZQ%3D%3D?line=3'>4</a>\u001b[0m     X_train \u001b[39m=\u001b[39m np\u001b[39m.\u001b[39mvstack([extract_mfcc(path) \u001b[39mfor\u001b[39;00m path, label \u001b[39min\u001b[39;00m training_data])\n\u001b[0;32m      <a href='vscode-notebook-cell:/d%3A/Projects/ML/Baby-Cry-Detection/HMM_babyCry.ipynb#W5sZmlsZQ%3D%3D?line=4'>5</a>\u001b[0m     y_train \u001b[39m=\u001b[39m np\u001b[39m.\u001b[39marray([label_to_int[label] \u001b[39mfor\u001b[39;00m path, label \u001b[39min\u001b[39;00m training_data])\n\u001b[0;32m      <a href='vscode-notebook-cell:/d%3A/Projects/ML/Baby-Cry-Detection/HMM_babyCry.ipynb#W5sZmlsZQ%3D%3D?line=6'>7</a>\u001b[0m     hmm_model \u001b[39m=\u001b[39m hmmlearn\u001b[39m.\u001b[39mhmm\u001b[39m.\u001b[39mGaussianHMM(n_components\u001b[39m=\u001b[39mnum_hidden_states, covariance_type\u001b[39m=\u001b[39m\u001b[39m\"\u001b[39m\u001b[39mdiag\u001b[39m\u001b[39m\"\u001b[39m, n_iter\u001b[39m=\u001b[39m\u001b[39m100\u001b[39m)\n",
      "\u001b[1;32md:\\Projects\\ML\\Baby-Cry-Detection\\HMM_babyCry.ipynb Cell 6\u001b[0m line \u001b[0;36m3\n\u001b[0;32m      <a href='vscode-notebook-cell:/d%3A/Projects/ML/Baby-Cry-Detection/HMM_babyCry.ipynb#W5sZmlsZQ%3D%3D?line=1'>2</a>\u001b[0m \u001b[39mdef\u001b[39;00m \u001b[39mextract_mfcc\u001b[39m(file_path):\n\u001b[1;32m----> <a href='vscode-notebook-cell:/d%3A/Projects/ML/Baby-Cry-Detection/HMM_babyCry.ipynb#W5sZmlsZQ%3D%3D?line=2'>3</a>\u001b[0m     rate, signal \u001b[39m=\u001b[39m wav\u001b[39m.\u001b[39;49mread(file_path)\n\u001b[0;32m      <a href='vscode-notebook-cell:/d%3A/Projects/ML/Baby-Cry-Detection/HMM_babyCry.ipynb#W5sZmlsZQ%3D%3D?line=3'>4</a>\u001b[0m     mfcc_features \u001b[39m=\u001b[39m mfcc(signal, rate, winlen\u001b[39m=\u001b[39m\u001b[39m0.025\u001b[39m, winstep\u001b[39m=\u001b[39m\u001b[39m0.01\u001b[39m, numcep\u001b[39m=\u001b[39m\u001b[39m13\u001b[39m, nfilt\u001b[39m=\u001b[39m\u001b[39m26\u001b[39m, nfft\u001b[39m=\u001b[39m\u001b[39m512\u001b[39m)\n\u001b[0;32m      <a href='vscode-notebook-cell:/d%3A/Projects/ML/Baby-Cry-Detection/HMM_babyCry.ipynb#W5sZmlsZQ%3D%3D?line=4'>5</a>\u001b[0m     \u001b[39mreturn\u001b[39;00m mfcc_features\n",
      "File \u001b[1;32mc:\\Users\\nikhi\\AppData\\Local\\Programs\\Python\\Python311\\Lib\\site-packages\\scipy\\io\\wavfile.py:647\u001b[0m, in \u001b[0;36mread\u001b[1;34m(filename, mmap)\u001b[0m\n\u001b[0;32m    645\u001b[0m     mmap \u001b[39m=\u001b[39m \u001b[39mFalse\u001b[39;00m\n\u001b[0;32m    646\u001b[0m \u001b[39melse\u001b[39;00m:\n\u001b[1;32m--> 647\u001b[0m     fid \u001b[39m=\u001b[39m \u001b[39mopen\u001b[39;49m(filename, \u001b[39m'\u001b[39;49m\u001b[39mrb\u001b[39;49m\u001b[39m'\u001b[39;49m)\n\u001b[0;32m    649\u001b[0m \u001b[39mtry\u001b[39;00m:\n\u001b[0;32m    650\u001b[0m     file_size, is_big_endian \u001b[39m=\u001b[39m _read_riff_chunk(fid)\n",
      "\u001b[1;31mFileNotFoundError\u001b[0m: [Errno 2] No such file or directory: 'path/to/speech1.wav'"
     ]
    }
   ],
   "source": [
    "# Example usage\n",
    "if __name__ == \"__main__\":\n",
    "    training_data = [\n",
    "        (\"path/to/speech1.wav\", \"label1\"),\n",
    "        (\"path/to/speech2.wav\", \"label1\"),\n",
    "        (\"path/to/speech3.wav\", \"label2\"),\n",
    "        # Add more training data as needed\n",
    "    ]\n",
    "\n",
    "    test_data = [\n",
    "        \"path/to/test_speech1.wav\",\n",
    "        \"path/to/test_speech2.wav\",\n",
    "        # Add more test data as needed\n",
    "    ]\n",
    "\n",
    "    hmm_model, label_to_int = train_hmm_model(training_data)\n",
    "    predicted_labels = recognize_audio(test_data, hmm_model, label_to_int)\n",
    "\n",
    "    for test_path, predicted_label in zip(test_data, predicted_labels):\n",
    "        print(f\"Predicted label for {test_path}: {predicted_label}\")"
   ]
  }
 ],
 "metadata": {
  "kernelspec": {
   "display_name": "Python 3",
   "language": "python",
   "name": "python3"
  },
  "language_info": {
   "codemirror_mode": {
    "name": "ipython",
    "version": 3
   },
   "file_extension": ".py",
   "mimetype": "text/x-python",
   "name": "python",
   "nbconvert_exporter": "python",
   "pygments_lexer": "ipython3",
   "version": "3.11.6"
  }
 },
 "nbformat": 4,
 "nbformat_minor": 2
}
